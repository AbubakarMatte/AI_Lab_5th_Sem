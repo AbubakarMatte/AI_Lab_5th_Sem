{
  "nbformat": 4,
  "nbformat_minor": 0,
  "metadata": {
    "colab": {
      "provenance": []
    },
    "kernelspec": {
      "name": "python3",
      "display_name": "Python 3"
    },
    "language_info": {
      "name": "python"
    }
  },
  "cells": [
    {
      "cell_type": "markdown",
      "source": [],
      "metadata": {
        "id": "hjBa1j7SpXXJ"
      }
    },
    {
      "cell_type": "code",
      "source": [
        "\n",
        "def implies(p, q):\n",
        "    return not p or q\n",
        "\n",
        "def print_truth_table(KB, alpha, sym):\n",
        "    print(\"Truth Table:\")\n",
        "    header = \" | \".join(sym) + \" | KB | alpha \"\n",
        "    print(header)\n",
        "    print(\"-\" * len(header))\n",
        "\n",
        "    for values in product([True, False], repeat=len(sym)):\n",
        "        model = dict(zip(sym, values))\n",
        "        kb_true = all(statement(model) for statement in KB)\n",
        "        query_true = query(model)\n",
        "\n",
        "        row = \" | \".join(str(val) for val in values) + f\" | {kb_true} | {query_true}\"\n",
        "        print(row)\n",
        "\n",
        "def check_entailment(KB, query, sym):\n",
        "\n",
        "    for values in product([True, False], repeat=len(sym)):\n",
        "        model = dict(zip(sym, values))\n",
        "        kb_true = all(statement(model) for statement in KB)\n",
        "        query_true = query(model)\n",
        "        if kb_true and not query_true:\n",
        "            return False\n",
        "    return True\n",
        "sym=['P', 'Q', 'R']\n",
        "KB = [\n",
        "    lambda model: implies(model['Q'], model['P']),\n",
        "    lambda model: implies(model['P'], not model['Q']),\n",
        "    lambda model: model['Q'] or model['R']\n",
        "]\n",
        "alpha = lambda model: model['R']\n",
        "\n",
        "\n",
        "entails = check_entailment(KB, alpha,sym)\n",
        "print(f\"KB entails alpha: {entails}\")\n",
        "print_truth_table(KB, alpha,sym)"
      ],
      "metadata": {
        "colab": {
          "base_uri": "https://localhost:8080/"
        },
        "id": "jJ3KLn9IjxX6",
        "outputId": "1841cba7-3baa-4c7d-d7e8-f1765510e5bc"
      },
      "execution_count": 21,
      "outputs": [
        {
          "output_type": "stream",
          "name": "stdout",
          "text": [
            "KB entails alpha: True\n",
            "Truth Table:\n",
            "P | Q | R | KB | alpha \n",
            "-----------------------\n",
            "True | True | True | False | True\n",
            "True | True | False | False | False\n",
            "True | False | True | True | True\n",
            "True | False | False | False | False\n",
            "False | True | True | False | True\n",
            "False | True | False | False | False\n",
            "False | False | True | True | True\n",
            "False | False | False | False | False\n"
          ]
        }
      ]
    },
    {
      "cell_type": "code",
      "source": [
        "\n",
        "def implies(p, q):\n",
        "    return not p or q\n",
        "\n",
        "def print_truth_table(KB, alpha, sym):\n",
        "    print(\"Truth Table:\")\n",
        "    header = \" | \".join(sym) + \" | KB | alpha \"\n",
        "    print(header)\n",
        "    print(\"-\" * len(header))\n",
        "\n",
        "    for values in product([True, False], repeat=len(sym)):\n",
        "        model = dict(zip(sym, values))\n",
        "        kb_true = all(statement(model) for statement in KB)\n",
        "        query_true = query(model)\n",
        "\n",
        "        row = \" | \".join(str(val) for val in values) + f\" | {kb_true} | {query_true}\"\n",
        "        print(row)\n",
        "\n",
        "def check_entailment(KB, query, sym):\n",
        "    for values in product([True, False], repeat=len(sym)):\n",
        "        model = dict(zip(sym, values))\n",
        "        kb_true = all(statement(model) for statement in KB)\n",
        "        query_true = query(model)\n",
        "        if kb_true and not query_true:\n",
        "            return False\n",
        "    return True\n",
        "sym=['P', 'Q', 'R']\n",
        "\n",
        "KB = [\n",
        "    lambda model: implies(model['Q'], model['P']),\n",
        "    lambda model: implies(model['P'], not model['Q']),\n",
        "    lambda model: model['Q'] or model['R']\n",
        "]\n",
        "alpha = lambda model: implies(model['R'] , model['P'])\n",
        "\n",
        "\n",
        "entails = check_entailment(KB, alpha,sym)\n",
        "print(f\"KB entails alpha: {entails}\")\n",
        "print_truth_table(KB, alpha,sym)"
      ],
      "metadata": {
        "colab": {
          "base_uri": "https://localhost:8080/"
        },
        "id": "le019-n2kgi6",
        "outputId": "22bb4cc5-684f-455f-9b73-18f66baeac18"
      },
      "execution_count": 18,
      "outputs": [
        {
          "output_type": "stream",
          "name": "stdout",
          "text": [
            "KB entails alpha: False\n",
            "Truth Table:\n",
            "P | Q | R | KB | alpha \n",
            "-----------------------\n",
            "True | True | True | False | True\n",
            "True | True | False | False | False\n",
            "True | False | True | True | True\n",
            "True | False | False | False | False\n",
            "False | True | True | False | True\n",
            "False | True | False | False | False\n",
            "False | False | True | True | True\n",
            "False | False | False | False | False\n"
          ]
        }
      ]
    },
    {
      "cell_type": "code",
      "source": [
        "\n",
        "def implies(p, q):\n",
        "    return not p or q\n",
        "\n",
        "def print_truth_table(KB, alpha, sym):\n",
        "    print(\"Truth Table:\")\n",
        "    header = \" | \".join(sym) + \" | KB | alpha \"\n",
        "    print(header)\n",
        "    print(\"-\" * len(header))\n",
        "\n",
        "    for values in product([True, False], repeat=len(sym)):\n",
        "        model = dict(zip(sym, values))\n",
        "        kb_true = all(statement(model) for statement in KB)\n",
        "        query_true = query(model)\n",
        "        row = \" | \".join(str(val) for val in values) + f\" | {kb_true} | {query_true}\"\n",
        "        print(row)\n",
        "\n",
        "def check_entailment(KB, query, sym):\n",
        "\n",
        "    for values in product([True, False], repeat=len(sym)):\n",
        "        model = dict(zip(sym, values))\n",
        "        kb_true = all(statement(model) for statement in KB)\n",
        "        query_true = query(model)\n",
        "        if kb_true and not query_true:\n",
        "            return False\n",
        "    return True\n",
        "sym=['P', 'Q', 'R']\n",
        "\n",
        "KB = [\n",
        "    lambda model: implies(model['Q'], model['P']),\n",
        "    lambda model: implies(model['P'], not model['Q']),\n",
        "    lambda model: model['Q'] or model['R']\n",
        "]\n",
        "alpha = lambda model: implies(model['Q'] , model['R'])\n",
        "\n",
        "\n",
        "entails = check_entailment(KB, alpha,sym)\n",
        "print(f\"KB entails alpha: {entails}\")\n",
        "print_truth_table(KB, alpha,sym)"
      ],
      "metadata": {
        "colab": {
          "base_uri": "https://localhost:8080/"
        },
        "id": "ZmhBxKm4mpX7",
        "outputId": "57498d50-dfc5-4fc4-9826-2de7966a19a8"
      },
      "execution_count": 20,
      "outputs": [
        {
          "output_type": "stream",
          "name": "stdout",
          "text": [
            "KB entails alpha: True\n",
            "Truth Table:\n",
            "P | Q | R | KB | alpha \n",
            "-----------------------\n",
            "True | True | True | False | True\n",
            "True | True | False | False | False\n",
            "True | False | True | True | True\n",
            "True | False | False | False | False\n",
            "False | True | True | False | True\n",
            "False | True | False | False | False\n",
            "False | False | True | True | True\n",
            "False | False | False | False | False\n"
          ]
        }
      ]
    },
    {
      "cell_type": "code",
      "source": [],
      "metadata": {
        "id": "JOqS69ogmw95"
      },
      "execution_count": null,
      "outputs": []
    }
  ]
}