{
  "nbformat": 4,
  "nbformat_minor": 0,
  "metadata": {
    "colab": {
      "provenance": []
    },
    "kernelspec": {
      "name": "python3",
      "display_name": "Python 3"
    },
    "language_info": {
      "name": "python"
    }
  },
  "cells": [
    {
      "cell_type": "code",
      "execution_count": 1,
      "metadata": {
        "colab": {
          "base_uri": "https://localhost:8080/"
        },
        "id": "OjkC0i0EOk2z",
        "outputId": "39e0a09f-8fae-4ba9-c477-e06fc234b1ea"
      },
      "outputs": [
        {
          "output_type": "stream",
          "name": "stdout",
          "text": [
            "Is room A dirty? (1 for yes, 0 for no): 1\n",
            "Is room B dirty? (1 for yes, 0 for no): 1\n",
            "Which room is the vacuum cleaner in? (A or B): A\n",
            "Current state: (1, 1, 'A')\n",
            "Cleaned room A.\n",
            "Moved to room B.\n",
            "Current state: (0, 1, 'B')\n",
            "Cleaned room B.\n",
            "Both rooms are clean!\n"
          ]
        }
      ],
      "source": [
        "class VacuumCleaner:\n",
        "    def __init__(self, room_a_dirt, room_b_dirt, starting_room):\n",
        "        self.current_state = (room_a_dirt, room_b_dirt, starting_room)\n",
        "\n",
        "    def is_goal_state(self):\n",
        "        return self.current_state[0] == 0 and self.current_state[1] == 0\n",
        "\n",
        "    def clean(self):\n",
        "        if self.current_state[0] == 1:\n",
        "            self.current_state = (0, self.current_state[1], self.current_state[2])\n",
        "            print(\"Cleaned room A.\")\n",
        "        elif self.current_state[1] == 1:\n",
        "            self.current_state = (self.current_state[0], 0, self.current_state[2])\n",
        "            print(\"Cleaned room B.\")\n",
        "\n",
        "    def move(self):\n",
        "        if self.current_state[2] == 'A':\n",
        "            self.current_state = (self.current_state[0], self.current_state[1], 'B')\n",
        "            print(\"Moved to room B.\")\n",
        "        else:\n",
        "            self.current_state = (self.current_state[0], self.current_state[1], 'A')\n",
        "            print(\"Moved to room A.\")\n",
        "\n",
        "    def run(self):\n",
        "        while not self.is_goal_state():\n",
        "            print(f\"Current state: {self.current_state}\")\n",
        "            self.clean()\n",
        "            if not self.is_goal_state():\n",
        "                self.move()\n",
        "        print(\"Both rooms are clean!\")\n",
        "\n",
        "def get_initial_state():\n",
        "    room_a_dirt = int(input(\"Is room A dirty? (1 for yes, 0 for no): \"))\n",
        "    room_b_dirt = int(input(\"Is room B dirty? (1 for yes, 0 for no): \"))\n",
        "    starting_room = input(\"Which room is the vacuum cleaner in? (A or B): \").strip().upper()\n",
        "    if starting_room not in ['A', 'B'] or room_a_dirt not in [0, 1] or room_b_dirt not in [0, 1]:\n",
        "        print(\"Invalid input. Please enter the correct values.\")\n",
        "        return get_initial_state()\n",
        "\n",
        "    return room_a_dirt, room_b_dirt, starting_room\n",
        "\n",
        "initial_state = get_initial_state()\n",
        "vacuum = VacuumCleaner(*initial_state)\n",
        "vacuum.run()\n"
      ]
    },
    {
      "cell_type": "code",
      "source": [],
      "metadata": {
        "id": "yjzidpk2OmAa"
      },
      "execution_count": null,
      "outputs": []
    }
  ]
}