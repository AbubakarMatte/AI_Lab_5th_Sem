{
  "nbformat": 4,
  "nbformat_minor": 0,
  "metadata": {
    "colab": {
      "provenance": []
    },
    "kernelspec": {
      "name": "python3",
      "display_name": "Python 3"
    },
    "language_info": {
      "name": "python"
    }
  },
  "cells": [
    {
      "cell_type": "code",
      "execution_count": 1,
      "metadata": {
        "colab": {
          "base_uri": "https://localhost:8080/"
        },
        "id": "29QkP-Qz-coq",
        "outputId": "585db496-91d9-42b5-c3e8-2e6ca6aa04a3"
      },
      "outputs": [
        {
          "output_type": "stream",
          "name": "stdout",
          "text": [
            "_ | _ | _\n",
            "---------\n",
            "_ | _ | _\n",
            "---------\n",
            "_ | _ | _\n",
            "---------\n",
            "Enter row (0-2): 1\n",
            "Enter column (0-2): 1\n",
            "_ | _ | _\n",
            "---------\n",
            "_ | X | _\n",
            "---------\n",
            "_ | _ | _\n",
            "---------\n",
            "Computer's turn...\n",
            "_ | O | _\n",
            "---------\n",
            "_ | X | _\n",
            "---------\n",
            "_ | _ | _\n",
            "---------\n",
            "Enter row (0-2): 2\n",
            "Enter column (0-2): 2\n",
            "_ | O | _\n",
            "---------\n",
            "_ | X | _\n",
            "---------\n",
            "_ | _ | X\n",
            "---------\n",
            "Computer's turn...\n",
            "_ | O | _\n",
            "---------\n",
            "_ | X | _\n",
            "---------\n",
            "O | _ | X\n",
            "---------\n",
            "Enter row (0-2): 0\n",
            "Enter column (0-2): 0\n",
            "X | O | _\n",
            "---------\n",
            "_ | X | _\n",
            "---------\n",
            "O | _ | X\n",
            "---------\n",
            "Congratulations! You win!\n"
          ]
        }
      ],
      "source": [
        "import random\n",
        "def check(row, col):\n",
        "    if arr[row][col] == '_':\n",
        "        return True\n",
        "    else:\n",
        "        return False\n",
        "\n",
        "def check2():\n",
        "    for i in range(3):\n",
        "        for j in range(3):\n",
        "            if arr[i][j] == '_':\n",
        "                return True\n",
        "    return False\n",
        "\n",
        "def print_board():\n",
        "    for row in arr:\n",
        "        print(\" | \".join(row))\n",
        "        print(\"-\" * 9)\n",
        "\n",
        "def check_win(player):\n",
        "    for i in range(3):\n",
        "        if all([arr[i][j] == player for j in range(3)]):\n",
        "            return True\n",
        "        if all([arr[j][i] == player for j in range(3)]):\n",
        "            return True\n",
        "    if arr[0][0] == player and arr[1][1] == player and arr[2][2] == player:\n",
        "        return True\n",
        "    if arr[0][2] == player and arr[1][1] == player and arr[2][0] == player:\n",
        "        return True\n",
        "    return False\n",
        "\n",
        "arr = [['_', '_', '_'],\n",
        "       ['_', '_', '_'],\n",
        "       ['_', '_', '_']]\n",
        "print_board()\n",
        "while check2():\n",
        "    row = int(input(\"Enter row (0-2): \"))\n",
        "    col = int(input(\"Enter column (0-2): \"))\n",
        "    while not check(row, col):\n",
        "        print(\"Place already occupied, try again.\")\n",
        "        row = int(input(\"Enter row (0-2): \"))\n",
        "        col = int(input(\"Enter column (0-2): \"))\n",
        "    arr[row][col] = 'X'\n",
        "    print_board()\n",
        "    if check_win('X'):\n",
        "        print(\"Congratulations! You win!\")\n",
        "        break\n",
        "    if not check2():\n",
        "        print(\"It's a draw!\")\n",
        "        break\n",
        "    print(\"Computer's turn...\")\n",
        "    row, col = random.randint(0, 2), random.randint(0, 2)\n",
        "    while not check(row, col):\n",
        "        row, col = random.randint(0, 2), random.randint(0, 2)\n",
        "    arr[row][col] = 'O'\n",
        "    print_board()\n",
        "    if check_win('O'):\n",
        "        print(\"Computer wins! Better luck next time.\")\n",
        "        break\n",
        "    if not check2():\n",
        "        print(\"It's a draw!\")\n",
        "        break"
      ]
    },
    {
      "cell_type": "code",
      "source": [],
      "metadata": {
        "id": "LYUCQNFYOJZx"
      },
      "execution_count": null,
      "outputs": []
    }
  ]
}