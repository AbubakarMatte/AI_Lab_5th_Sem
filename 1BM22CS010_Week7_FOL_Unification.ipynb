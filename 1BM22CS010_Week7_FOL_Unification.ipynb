{
  "nbformat": 4,
  "nbformat_minor": 0,
  "metadata": {
    "colab": {
      "provenance": []
    },
    "kernelspec": {
      "name": "python3",
      "display_name": "Python 3"
    },
    "language_info": {
      "name": "python"
    }
  },
  "cells": [
    {
      "cell_type": "code",
      "execution_count": 1,
      "metadata": {
        "colab": {
          "base_uri": "https://localhost:8080/"
        },
        "id": "L6m2NfMCxy6l",
        "outputId": "db3812b2-cbcb-47b7-9a9f-bbc416a37352"
      },
      "outputs": [
        {
          "output_type": "stream",
          "name": "stdout",
          "text": [
            "Enter expressions in the following format:\n",
            "Compound terms: ('f', ['a', 'b'])\n",
            "Variables: '?x', '?y'\n",
            "Lists: ['a', 'b']\n",
            "Constants: 'a', 'b', etc.\n",
            "\n",
            "Enter the first expression (Ψ₁): ('Studies',['Abubakar','?x'])\n",
            "Enter the second expression (Ψ₂): ('Studies',['?y','AI'])\n",
            "Unification successful!\n",
            "Substitution Set: {'?y': 'Abubakar', '?x': 'AI'}\n"
          ]
        }
      ],
      "source": [
        "def unify_terms(term_a, term_b, subs=None):\n",
        "    if subs is None:\n",
        "        subs = {}\n",
        "\n",
        "    if term_a == term_b:\n",
        "        return subs\n",
        "\n",
        "    if is_variable(term_a):\n",
        "        return unify_with_var(term_a, term_b, subs)\n",
        "    if is_variable(term_b):\n",
        "        return unify_with_var(term_b, term_a, subs)\n",
        "\n",
        "    if is_compound(term_a) and is_compound(term_b):\n",
        "        if term_a[0] != term_b[0] or len(term_a[1]) != len(term_b[1]):\n",
        "            return None\n",
        "        for subterm_a, subterm_b in zip(term_a[1], term_b[1]):\n",
        "            subs = unify_terms(subterm_a, subterm_b, subs)\n",
        "            if subs is None:\n",
        "                return None\n",
        "        return subs\n",
        "\n",
        "    if isinstance(term_a, list) and isinstance(term_b, list):\n",
        "        if len(term_a) != len(term_b):\n",
        "            return None\n",
        "        for element_a, element_b in zip(term_a, term_b):\n",
        "            subs = unify_terms(element_a, element_b, subs)\n",
        "            if subs is None:\n",
        "                return None\n",
        "        return subs\n",
        "\n",
        "    return None\n",
        "\n",
        "\n",
        "def unify_with_var(var, expr, subs):\n",
        "\n",
        "    if var in subs:\n",
        "        return unify_terms(subs[var], expr, subs)\n",
        "    if expr in subs:\n",
        "        return unify_terms(var, subs[expr], subs)\n",
        "    if occurs_check(var, expr, subs):\n",
        "        return None  # Cyclic substitution check failed\n",
        "    subs[var] = expr\n",
        "    return subs\n",
        "\n",
        "\n",
        "def occurs_check(var, expr, subs):\n",
        "\n",
        "    if var == expr:\n",
        "        return True\n",
        "    if is_compound(expr):\n",
        "        return any(occurs_check(var, arg, subs) for arg in expr[1])\n",
        "    if isinstance(expr, list):\n",
        "        return any(occurs_check(var, item, subs) for item in expr)\n",
        "    if expr in subs:\n",
        "        return occurs_check(var, subs[expr], subs)\n",
        "    return False\n",
        "\n",
        "\n",
        "def is_variable(item):\n",
        "\n",
        "    return isinstance(item, str) and item.startswith('?')\n",
        "\n",
        "\n",
        "def is_compound(item):\n",
        "\n",
        "    return isinstance(item, tuple) and len(item) == 2 and isinstance(item[1], list)\n",
        "\n",
        "\n",
        "if __name__ == \"__main__\":\n",
        "    print(\"Enter expressions in the following format:\")\n",
        "    print(\"Compound terms: ('f', ['a', 'b'])\")\n",
        "    print(\"Variables: '?x', '?y'\")\n",
        "    print(\"Lists: ['a', 'b']\")\n",
        "    print(\"Constants: 'a', 'b', etc.\\n\")\n",
        "\n",
        "    term_1 = eval(input(\"Enter the first expression (Ψ₁): \"))\n",
        "    term_2 = eval(input(\"Enter the second expression (Ψ₂): \"))\n",
        "\n",
        "    substitution_result = unify_terms(term_1, term_2)\n",
        "    if substitution_result is None:\n",
        "        print(\"Unification failed!\")\n",
        "    else:\n",
        "        print(\"Unification successful!\")\n",
        "        print(\"Substitution Set:\", substitution_result)\n"
      ]
    }
  ]
}