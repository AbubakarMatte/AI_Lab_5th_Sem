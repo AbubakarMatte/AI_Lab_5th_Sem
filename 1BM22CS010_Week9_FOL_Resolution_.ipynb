{
  "nbformat": 4,
  "nbformat_minor": 0,
  "metadata": {
    "colab": {
      "provenance": []
    },
    "kernelspec": {
      "name": "python3",
      "display_name": "Python 3"
    },
    "language_info": {
      "name": "python"
    }
  },
  "cells": [
    {
      "cell_type": "code",
      "execution_count": null,
      "metadata": {
        "colab": {
          "base_uri": "https://localhost:8080/"
        },
        "id": "USB7rVSOMXE1",
        "outputId": "133704dc-ad74-4ca6-e360-1656d339f1ac"
      },
      "outputs": [
        {
          "output_type": "stream",
          "name": "stdout",
          "text": [
            "PROVED\n",
            "\n",
            "Proof Tree:\n",
            "Step 1: {'R', 'Q'} from [0, 1]\n",
            "Step 2: {'P'} from [0, 3]\n",
            "Step 3: {'~P'} from [1, 2]\n",
            "Step 4: {'Q'} from [0, 6]\n",
            "Step 5: {'R'} from [1, 5]\n",
            "Step 6: set() from [5, 6]\n"
          ]
        }
      ],
      "source": [
        "from typing import List, Tuple\n",
        "\n",
        "def check_complimentary(sentence1: set, sentence2: set) -> Tuple[bool, set]:\n",
        "    for literal in sentence1:\n",
        "        if f\"~{literal}\" in sentence2:\n",
        "            resolved = sentence1.union(sentence2)\n",
        "            resolved.discard(literal)\n",
        "            resolved.discard(f\"~{literal}\")\n",
        "            return True, resolved\n",
        "        elif literal.startswith(\"~\") and literal[1:] in sentence2:\n",
        "            resolved = sentence1.union(sentence2)\n",
        "            resolved.discard(literal)\n",
        "            resolved.discard(literal[1:])\n",
        "            return True, resolved\n",
        "    return False, set()\n",
        "\n",
        "def proof_by_resolution(Knowledge_Base: List[set], goal: set) -> Tuple[bool, List[Tuple[set, List[int]]]]:\n",
        "    proof_tree = []\n",
        "    sentences = Knowledge_Base + [goal]\n",
        "    new_sentences = []\n",
        "\n",
        "    while True:\n",
        "\n",
        "        pairs = [(sentences[i], sentences[j], (i, j)) for i in range(len(sentences)) for j in range(i + 1, len(sentences))]\n",
        "\n",
        "        for sentence1, sentence2, (i, j) in pairs:\n",
        "            complementary, resolved_sentence = check_complimentary(sentence1, sentence2)\n",
        "            if complementary:\n",
        "                if not resolved_sentence:\n",
        "                    proof_tree.append((resolved_sentence, [i, j]))\n",
        "                    return True, proof_tree\n",
        "                if resolved_sentence not in sentences and resolved_sentence not in new_sentences:\n",
        "                    new_sentences.append(resolved_sentence)\n",
        "                    proof_tree.append((resolved_sentence, [i, j]))\n",
        "\n",
        "        if not new_sentences:\n",
        "            return False, proof_tree\n",
        "\n",
        "        sentences.extend(new_sentences)\n",
        "        new_sentences = []\n",
        "\n",
        "if __name__ == \"__main__\":\n",
        "    Knowledge_Base = [\n",
        "        {\"P\", \"Q\"},       # sentence 1: P ∨ Q\n",
        "        {\"~P\", \"R\"},      # sentence 2: ¬P ∨ R\n",
        "        {\"~R\"},           # sentence13: ¬R\n",
        "    ]\n",
        "    goal = {\"~Q\"}\n",
        "\n",
        "    success, proof_tree = proof_by_resolution(Knowledge_Base, goal)\n",
        "    if success:\n",
        "        print(\"PROVED\")\n",
        "    else:\n",
        "        print(\"CAN'T BE PROVED\")\n",
        "\n",
        "    print(\"\\nProof Tree:\")\n",
        "    for i, (sentence, parents) in enumerate(proof_tree):\n",
        "        print(f\"Step {i + 1}: {sentence} from {parents}\")\n"
      ]
    },
    {
      "cell_type": "code",
      "source": [
        "from itertools import combinations\n",
        "\n",
        "def unify_sentences_var(var, x, theta):\n",
        "    if var in theta:\n",
        "        return unify_sentences(theta[var], x, theta)\n",
        "    elif x in theta:\n",
        "        return unify_sentences(var, theta[x], theta)\n",
        "    else:\n",
        "        theta[var] = x\n",
        "        return theta\n",
        "\n",
        "def resolve(sentence1, sentence2):\n",
        "    resolvents = []\n",
        "    for predicate1 in sentence1:\n",
        "        for predicate2 in sentence2:\n",
        "            theta = unify_sentences(predicate1, negate(predicate2))\n",
        "            if theta is not None:\n",
        "                new_sentence = (substitute(sentence1, theta) | substitute(sentence2, theta)) - {predicate1, predicate2}\n",
        "                resolvents.append(frozenset(new_sentence))\n",
        "    return resolvents\n",
        "\n",
        "def unify_sentences(x, y, theta={}):\n",
        "    if theta is None:\n",
        "        return None\n",
        "    elif x == y:\n",
        "        return theta\n",
        "    elif isinstance(x, str) and x.islower():\n",
        "        return unify_sentences_var(x, y, theta)\n",
        "    elif isinstance(y, str) and y.islower():\n",
        "        return unify_sentences_var(y, x, theta)\n",
        "    elif isinstance(x, tuple) and isinstance(y, tuple) and len(x) == len(y):\n",
        "        return unify_sentences(x[1:], y[1:], unify_sentences(x[0], y[0], theta))\n",
        "    else:\n",
        "        return None\n",
        "\n",
        "def negate(predicate):\n",
        "    return ('not', predicate) if isinstance(predicate, str) else predicate[1]\n",
        "\n",
        "def substitute(sentence, theta):\n",
        "    return {substitute_predicate(p, theta) for p in sentence}\n",
        "\n",
        "def substitute_predicate(predicate, theta):\n",
        "    if isinstance(predicate, str):\n",
        "        return theta.get(predicate, predicate)\n",
        "    else:\n",
        "        return (predicate[0],) + tuple(theta.get(arg, arg) for arg in predicate[1:])\n",
        "\n",
        "def proof_by_resolution(Knowledge_Base, query):\n",
        "    negated_query = frozenset({negate(query)})\n",
        "    sentences = Knowledge_Base | {negated_query}\n",
        "    new_sentences = set()\n",
        "\n",
        "    while True:\n",
        "        for sentence1, sentence2 in combinations(sentences, 2):\n",
        "            resolvents = resolve(sentence1, sentence2)\n",
        "            if frozenset() in resolvents:\n",
        "                return True\n",
        "            new_sentences.update(resolvents)\n",
        "        if new_sentences.issubset(sentences):\n",
        "            return False\n",
        "        sentences |= new_sentences\n",
        "\n",
        "Knowledge_Base = {\n",
        "    frozenset({('Mother', 'Leela', 'Oshin')}),\n",
        "    frozenset({('Alive', 'Leela')}),\n",
        "    frozenset({('not','Mother', 'x','y')}),\n",
        "    frozenset({('Parent','x','y')}),\n",
        "    frozenset({('not','Parent', 'w', 'z')}),\n",
        "    frozenset({('not','Alive','w','z')}),\n",
        "    frozenset({('Older','w','z')}),\n",
        "}\n",
        "\n",
        "query = ('Older', 'Leela', 'Older')\n",
        "result = proof_by_resolution(Knowledge_Base, query)\n",
        "if result:\n",
        "    print(\"Leela is older than Oshin.\\nProved by resolution.\")\n",
        "else:\n",
        "    print(\"Cannot prove. Leela is not older than Oshin.\")"
      ],
      "metadata": {
        "colab": {
          "base_uri": "https://localhost:8080/"
        },
        "id": "L8-Q-DityokS",
        "outputId": "5fa211a0-3ea1-4ceb-b31b-c7bb344fec78"
      },
      "execution_count": 6,
      "outputs": [
        {
          "output_type": "stream",
          "name": "stdout",
          "text": [
            "Leela is older than Oshin.\n",
            "Proved by resolution.\n"
          ]
        }
      ]
    }
  ]
}