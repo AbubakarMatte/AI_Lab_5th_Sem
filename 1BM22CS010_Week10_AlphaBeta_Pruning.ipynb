{
  "nbformat": 4,
  "nbformat_minor": 0,
  "metadata": {
    "colab": {
      "provenance": []
    },
    "kernelspec": {
      "name": "python3",
      "display_name": "Python 3"
    },
    "language_info": {
      "name": "python"
    }
  },
  "cells": [
    {
      "cell_type": "code",
      "execution_count": 4,
      "metadata": {
        "colab": {
          "base_uri": "https://localhost:8080/"
        },
        "id": "sQ-c8x1yttFa",
        "outputId": "ef6a48e9-7f17-426f-ffa7-990f53044030"
      },
      "outputs": [
        {
          "output_type": "stream",
          "name": "stdout",
          "text": [
            "Game Tree Before Alpha-Beta Pruning:\n",
            "Value of Node: None\n",
            "    Value of Node: None\n",
            "        Value of Node: None\n",
            "            Value of Node: 10\n",
            "            Value of Node: 9\n",
            "        Value of Node: None\n",
            "            Value of Node: 14\n",
            "            Value of Node: 18\n",
            "    Value of Node: None\n",
            "        Value of Node: None\n",
            "            Value of Node: 5\n",
            "            Value of Node: 4\n",
            "        Value of Node: None\n",
            "            Value of Node: 50\n",
            "            Value of Node: 3\n",
            "Pruned at MAX node with alpha=14, beta=10\n",
            "Pruned at MIN node with alpha=10, beta=5\n",
            "\n",
            "Game Tree After Alpha-Beta Pruning:\n",
            "Value of Node: 10\n",
            "    Value of Node: 10\n",
            "        Value of Node: 10\n",
            "            Value of Node: 10\n",
            "            Value of Node: 9\n",
            "        Value of Node: 14\n",
            "            Value of Node: 14\n",
            "            Value of Node: 18\n",
            "    Value of Node: 5\n",
            "        Value of Node: 5\n",
            "            Value of Node: 5\n",
            "            Value of Node: 4\n",
            "        Value of Node: None\n",
            "            Value of Node: 50\n",
            "            Value of Node: 3\n",
            "\n",
            "Final Value at MAX node: 10\n"
          ]
        }
      ],
      "source": [
        "class Node:\n",
        "    def __init__(self, value=None, children=None):\n",
        "        self.value = value\n",
        "        self.children = children if children else []\n",
        "\n",
        "def alpha_beta_pruning(node, depth, alpha, beta, maximizing_player):\n",
        "    if not node.children or depth == 0:\n",
        "        return node.value\n",
        "\n",
        "    if maximizing_player:\n",
        "        max_eval = float('-inf')\n",
        "        for child in node.children:\n",
        "            eval = alpha_beta_pruning(child, depth - 1, alpha, beta, False)\n",
        "            max_eval = max(max_eval, eval)\n",
        "            alpha = max(alpha, eval)\n",
        "            if beta <= alpha:\n",
        "                print(f\"Pruned at MAX node with alpha={alpha}, beta={beta}\")\n",
        "                break\n",
        "        node.value = max_eval\n",
        "        return max_eval\n",
        "    else:\n",
        "        min_eval = float('inf')\n",
        "        for child in node.children:\n",
        "            eval = alpha_beta_pruning(child, depth - 1, alpha, beta, True)\n",
        "            min_eval = min(min_eval, eval)\n",
        "            beta = min(beta, eval)\n",
        "            if beta <= alpha:\n",
        "                print(f\"Pruned at MIN node with alpha={alpha}, beta={beta}\")\n",
        "                break\n",
        "        node.value = min_eval\n",
        "        return min_eval\n",
        "\n",
        "\n",
        "def print_tree(node, level=0):\n",
        "    print(\"  \" * level *2 + f\"Value of Node: {node.value}\")\n",
        "    for child in node.children:\n",
        "        print_tree(child, level + 1)\n",
        "\n",
        "\n",
        "if __name__ == \"__main__\":\n",
        "    tree = Node(None, [\n",
        "        Node(None, [\n",
        "            Node(None,[Node(10),Node(9)]),\n",
        "            Node(None, [Node(14),Node(18)])\n",
        "        ]),\n",
        "        Node(None, [\n",
        "            Node(None, [Node(5),Node(4)]),\n",
        "            Node(None, [Node(50),Node(3)])\n",
        "        ])\n",
        "    ])\n",
        "\n",
        "    print(\"Game Tree Before Alpha-Beta Pruning:\")\n",
        "    print_tree(tree)\n",
        "    final_value = alpha_beta_pruning(tree, depth=3, alpha=float('-inf'), beta=float('inf'), maximizing_player=True)\n",
        "    print(\"\\nGame Tree After Alpha-Beta Pruning:\")\n",
        "    print_tree(tree)\n",
        "    print(\"\\nFinal Value at MAX node:\", final_value)"
      ]
    }
  ]
}