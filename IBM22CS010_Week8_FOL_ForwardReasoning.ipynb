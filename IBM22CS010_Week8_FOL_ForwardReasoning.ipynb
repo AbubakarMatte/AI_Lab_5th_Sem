{
  "nbformat": 4,
  "nbformat_minor": 0,
  "metadata": {
    "colab": {
      "provenance": []
    },
    "kernelspec": {
      "name": "python3",
      "display_name": "Python 3"
    },
    "language_info": {
      "name": "python"
    }
  },
  "cells": [
    {
      "cell_type": "code",
      "source": [
        "\n",
        "class KnowledgeBaseSystem:\n",
        "    def __init__(self):\n",
        "        self.known_facts = set()\n",
        "        self.rules_list = []\n",
        "\n",
        "    def insert_fact(self, fact):\n",
        "        self.known_facts.add(fact)\n",
        "\n",
        "    def insert_rule(self, rule):\n",
        "        self.rules_list.append(rule)\n",
        "\n",
        "    def deduce(self):\n",
        "        new_inferences = True\n",
        "        while new_inferences:\n",
        "            new_inferences = False\n",
        "            for rule in self.rules_list:\n",
        "                if rule.check_and_apply(self.known_facts):\n",
        "                    new_inferences = True\n",
        "\n",
        "knowledge_base = KnowledgeBaseSystem()\n",
        "knowledge_base.insert_fact(\"American(Robert)\")\n",
        "knowledge_base.insert_fact(\"Missile(T1)\")\n",
        "knowledge_base.insert_fact(\"Owns(A, T1)\")\n",
        "knowledge_base.insert_fact(\"Enemy(A, America)\")\n",
        "\n",
        "\n",
        "class InferenceRule:\n",
        "    def __init__(self, conditions, result):\n",
        "        self.conditions = conditions  # List of conditions\n",
        "        self.result = result  # The result to derive if conditions are met\n",
        "\n",
        "    def check_and_apply(self, facts):\n",
        "        if all(condition in facts for condition in self.conditions):\n",
        "            if self.result not in facts:\n",
        "                facts.add(self.result)\n",
        "                print(f\"Derived: {self.result}\")\n",
        "                return True\n",
        "        return False\n",
        "\n",
        "\n",
        "\n",
        "\n",
        "knowledge_base.insert_rule(InferenceRule([\"Missile(T1)\"],\"Weapon(T1)\"))\n",
        "knowledge_base.insert_rule(InferenceRule([\"Enemy(A, America)\"],\"Hostile(A)\"))\n",
        "knowledge_base.insert_rule(InferenceRule([\"Missile(T1)\", \"Owns(A, T1)\"],\"Sells(Robert, T1, A)\"))\n",
        "knowledge_base.insert_rule(InferenceRule(\n",
        "    [\"American(Robert)\", \"Weapon(T1)\", \"Sells(Robert, T1, A)\", \"Hostile(A)\"],\"Criminal(Robert)\"))\n",
        "knowledge_base.deduce()\n",
        "\n",
        "if \"Criminal(Robert)\" in knowledge_base.known_facts:\n",
        "    print(\"Conclusion: Robert is a criminal.\")\n",
        "else:\n",
        "    print(\"Conclusion: Unable to prove Robert is a criminal.\")\n"
      ],
      "metadata": {
        "colab": {
          "base_uri": "https://localhost:8080/"
        },
        "id": "s2IOCE_osX4H",
        "outputId": "8818e39f-a603-49c8-f923-02236921cbb4"
      },
      "execution_count": 15,
      "outputs": [
        {
          "output_type": "stream",
          "name": "stdout",
          "text": [
            "Derived: Weapon(T1)\n",
            "Derived: Hostile(A)\n",
            "Derived: Sells(Robert, T1, A)\n",
            "Derived: Criminal(Robert)\n",
            "Conclusion: Robert is a criminal.\n"
          ]
        }
      ]
    }
  ]
}